{
 "cells": [
  {
   "cell_type": "markdown",
   "id": "892369e3",
   "metadata": {},
   "source": [
    "## Importing the Libraries"
   ]
  },
  {
   "cell_type": "code",
   "execution_count": 2,
   "id": "0c3c5a4c",
   "metadata": {},
   "outputs": [],
   "source": [
    "import numpy as np\n",
    "import pandas as pd\n",
    "import matplotlib.pyplot as plt\n",
    "%matplotlib inline\n",
    "import seaborn as sns\n",
    "\n",
    "from sklearn.model_selection import train_test_split\n",
    "from sklearn.linear_model import LogisticRegression\n",
    "from sklearn import svm\n",
    "from sklearn.tree import DecisionTreeClassifier\n",
    "from sklearn.neighbors import KNeighborsClassifier\n",
    "from sklearn.ensemble import RandomForestClassifier\n",
    "from sklearn import metrics"
   ]
  },
  {
   "cell_type": "markdown",
   "id": "fc0649bc",
   "metadata": {},
   "source": [
    "## Importing & Loading the dataset"
   ]
  },
  {
   "cell_type": "code",
   "execution_count": 3,
   "id": "a8585be5",
   "metadata": {},
   "outputs": [
    {
     "data": {
      "text/html": [
       "<div>\n",
       "<style scoped>\n",
       "    .dataframe tbody tr th:only-of-type {\n",
       "        vertical-align: middle;\n",
       "    }\n",
       "\n",
       "    .dataframe tbody tr th {\n",
       "        vertical-align: top;\n",
       "    }\n",
       "\n",
       "    .dataframe thead th {\n",
       "        text-align: right;\n",
       "    }\n",
       "</style>\n",
       "<table border=\"1\" class=\"dataframe\">\n",
       "  <thead>\n",
       "    <tr style=\"text-align: right;\">\n",
       "      <th></th>\n",
       "      <th>Date</th>\n",
       "      <th>Cloud factor</th>\n",
       "      <th>Soil moisture</th>\n",
       "      <th>Temperature</th>\n",
       "      <th>Humidity</th>\n",
       "      <th>Symptoms</th>\n",
       "    </tr>\n",
       "  </thead>\n",
       "  <tbody>\n",
       "    <tr>\n",
       "      <th>0</th>\n",
       "      <td>01-08-2016</td>\n",
       "      <td>Broken</td>\n",
       "      <td>Adequate</td>\n",
       "      <td>Moderate</td>\n",
       "      <td>Maximum</td>\n",
       "      <td>Low</td>\n",
       "    </tr>\n",
       "    <tr>\n",
       "      <th>1</th>\n",
       "      <td>02-08-2016</td>\n",
       "      <td>Open</td>\n",
       "      <td>Adequate</td>\n",
       "      <td>Moderate</td>\n",
       "      <td>Maximum</td>\n",
       "      <td>Low</td>\n",
       "    </tr>\n",
       "    <tr>\n",
       "      <th>2</th>\n",
       "      <td>03-08-2016</td>\n",
       "      <td>Open</td>\n",
       "      <td>Adequate</td>\n",
       "      <td>Moderate</td>\n",
       "      <td>Maximum</td>\n",
       "      <td>Low</td>\n",
       "    </tr>\n",
       "    <tr>\n",
       "      <th>3</th>\n",
       "      <td>04-08-2016</td>\n",
       "      <td>Open</td>\n",
       "      <td>Adequate</td>\n",
       "      <td>Moderate</td>\n",
       "      <td>Maximum</td>\n",
       "      <td>Low</td>\n",
       "    </tr>\n",
       "    <tr>\n",
       "      <th>4</th>\n",
       "      <td>05-08-2016</td>\n",
       "      <td>Open</td>\n",
       "      <td>Adequate</td>\n",
       "      <td>Moderate</td>\n",
       "      <td>Maximum</td>\n",
       "      <td>Low</td>\n",
       "    </tr>\n",
       "    <tr>\n",
       "      <th>...</th>\n",
       "      <td>...</td>\n",
       "      <td>...</td>\n",
       "      <td>...</td>\n",
       "      <td>...</td>\n",
       "      <td>...</td>\n",
       "      <td>...</td>\n",
       "    </tr>\n",
       "    <tr>\n",
       "      <th>883</th>\n",
       "      <td>27-03-2020</td>\n",
       "      <td>Open</td>\n",
       "      <td>Adequate</td>\n",
       "      <td>Moderate</td>\n",
       "      <td>Moderate</td>\n",
       "      <td>High</td>\n",
       "    </tr>\n",
       "    <tr>\n",
       "      <th>884</th>\n",
       "      <td>28-03-2020</td>\n",
       "      <td>Closed</td>\n",
       "      <td>Adequate</td>\n",
       "      <td>Moderate</td>\n",
       "      <td>Moderate</td>\n",
       "      <td>High</td>\n",
       "    </tr>\n",
       "    <tr>\n",
       "      <th>885</th>\n",
       "      <td>29-03-2020</td>\n",
       "      <td>Closed</td>\n",
       "      <td>Adequate</td>\n",
       "      <td>Moderate</td>\n",
       "      <td>Moderate</td>\n",
       "      <td>High</td>\n",
       "    </tr>\n",
       "    <tr>\n",
       "      <th>886</th>\n",
       "      <td>30-03-2020</td>\n",
       "      <td>Closed</td>\n",
       "      <td>Adequate</td>\n",
       "      <td>Moderate</td>\n",
       "      <td>Moderate</td>\n",
       "      <td>High</td>\n",
       "    </tr>\n",
       "    <tr>\n",
       "      <th>887</th>\n",
       "      <td>31-03-2020</td>\n",
       "      <td>Closed</td>\n",
       "      <td>Adequate</td>\n",
       "      <td>Moderate</td>\n",
       "      <td>Moderate</td>\n",
       "      <td>High</td>\n",
       "    </tr>\n",
       "  </tbody>\n",
       "</table>\n",
       "<p>888 rows × 6 columns</p>\n",
       "</div>"
      ],
      "text/plain": [
       "          Date   Cloud factor   Soil moisture  Temperature   Humidity  \\\n",
       "0    01-08-2016         Broken        Adequate     Moderate   Maximum   \n",
       "1    02-08-2016           Open        Adequate     Moderate   Maximum   \n",
       "2    03-08-2016           Open        Adequate     Moderate   Maximum   \n",
       "3    04-08-2016           Open        Adequate     Moderate   Maximum   \n",
       "4    05-08-2016           Open        Adequate     Moderate   Maximum   \n",
       "..          ...            ...             ...          ...       ...   \n",
       "883  27-03-2020           Open        Adequate     Moderate  Moderate   \n",
       "884  28-03-2020         Closed        Adequate     Moderate  Moderate   \n",
       "885  29-03-2020         Closed        Adequate     Moderate  Moderate   \n",
       "886  30-03-2020         Closed        Adequate     Moderate  Moderate   \n",
       "887  31-03-2020         Closed        Adequate     Moderate  Moderate   \n",
       "\n",
       "    Symptoms   \n",
       "0         Low  \n",
       "1         Low  \n",
       "2         Low  \n",
       "3         Low  \n",
       "4         Low  \n",
       "..        ...  \n",
       "883      High  \n",
       "884      High  \n",
       "885      High  \n",
       "886      High  \n",
       "887      High  \n",
       "\n",
       "[888 rows x 6 columns]"
      ]
     },
     "execution_count": 3,
     "metadata": {},
     "output_type": "execute_result"
    }
   ],
   "source": [
    "df=pd.read_csv(\"data_1.csv\")\n",
    "df"
   ]
  },
  {
   "cell_type": "markdown",
   "id": "1fdf29c3",
   "metadata": {},
   "source": [
    "## Dataset Info:"
   ]
  },
  {
   "cell_type": "code",
   "execution_count": 4,
   "id": "cab213b5",
   "metadata": {},
   "outputs": [
    {
     "name": "stdout",
     "output_type": "stream",
     "text": [
      "<class 'pandas.core.frame.DataFrame'>\n",
      "RangeIndex: 888 entries, 0 to 887\n",
      "Data columns (total 6 columns):\n",
      " #   Column           Non-Null Count  Dtype \n",
      "---  ------           --------------  ----- \n",
      " 0     Date           888 non-null    object\n",
      " 1    Cloud factor    888 non-null    object\n",
      " 2    Soil moisture   888 non-null    object\n",
      " 3   Temperature      888 non-null    object\n",
      " 4    Humidity        888 non-null    object\n",
      " 5   Symptoms         888 non-null    object\n",
      "dtypes: object(6)\n",
      "memory usage: 41.8+ KB\n"
     ]
    }
   ],
   "source": [
    "df.info()"
   ]
  },
  {
   "cell_type": "markdown",
   "id": "963192d5",
   "metadata": {},
   "source": [
    "## Dataset Description:"
   ]
  },
  {
   "cell_type": "code",
   "execution_count": 5,
   "id": "605e5d62",
   "metadata": {},
   "outputs": [
    {
     "data": {
      "text/html": [
       "<div>\n",
       "<style scoped>\n",
       "    .dataframe tbody tr th:only-of-type {\n",
       "        vertical-align: middle;\n",
       "    }\n",
       "\n",
       "    .dataframe tbody tr th {\n",
       "        vertical-align: top;\n",
       "    }\n",
       "\n",
       "    .dataframe thead th {\n",
       "        text-align: right;\n",
       "    }\n",
       "</style>\n",
       "<table border=\"1\" class=\"dataframe\">\n",
       "  <thead>\n",
       "    <tr style=\"text-align: right;\">\n",
       "      <th></th>\n",
       "      <th>Date</th>\n",
       "      <th>Cloud factor</th>\n",
       "      <th>Soil moisture</th>\n",
       "      <th>Temperature</th>\n",
       "      <th>Humidity</th>\n",
       "      <th>Symptoms</th>\n",
       "    </tr>\n",
       "  </thead>\n",
       "  <tbody>\n",
       "    <tr>\n",
       "      <th>count</th>\n",
       "      <td>888</td>\n",
       "      <td>888</td>\n",
       "      <td>888</td>\n",
       "      <td>888</td>\n",
       "      <td>888</td>\n",
       "      <td>888</td>\n",
       "    </tr>\n",
       "    <tr>\n",
       "      <th>unique</th>\n",
       "      <td>887</td>\n",
       "      <td>3</td>\n",
       "      <td>2</td>\n",
       "      <td>3</td>\n",
       "      <td>3</td>\n",
       "      <td>3</td>\n",
       "    </tr>\n",
       "    <tr>\n",
       "      <th>top</th>\n",
       "      <td>30-10-2019</td>\n",
       "      <td>Open</td>\n",
       "      <td>Adequate</td>\n",
       "      <td>Moderate</td>\n",
       "      <td>Moderate</td>\n",
       "      <td>High</td>\n",
       "    </tr>\n",
       "    <tr>\n",
       "      <th>freq</th>\n",
       "      <td>2</td>\n",
       "      <td>390</td>\n",
       "      <td>884</td>\n",
       "      <td>459</td>\n",
       "      <td>398</td>\n",
       "      <td>448</td>\n",
       "    </tr>\n",
       "  </tbody>\n",
       "</table>\n",
       "</div>"
      ],
      "text/plain": [
       "             Date   Cloud factor   Soil moisture  Temperature   Humidity  \\\n",
       "count          888            888             888          888       888   \n",
       "unique         887              3               2            3         3   \n",
       "top     30-10-2019           Open        Adequate     Moderate  Moderate   \n",
       "freq             2            390             884          459       398   \n",
       "\n",
       "       Symptoms   \n",
       "count        888  \n",
       "unique         3  \n",
       "top         High  \n",
       "freq         448  "
      ]
     },
     "execution_count": 5,
     "metadata": {},
     "output_type": "execute_result"
    }
   ],
   "source": [
    "df.describe()"
   ]
  },
  {
   "cell_type": "code",
   "execution_count": 6,
   "id": "d562dfe5",
   "metadata": {},
   "outputs": [
    {
     "data": {
      "text/plain": [
       "['  Date ',\n",
       " ' Cloud factor ',\n",
       " ' Soil moisture ',\n",
       " 'Temperature ',\n",
       " ' Humidity',\n",
       " 'Symptoms ']"
      ]
     },
     "execution_count": 6,
     "metadata": {},
     "output_type": "execute_result"
    }
   ],
   "source": [
    "list(df.columns)"
   ]
  },
  {
   "cell_type": "markdown",
   "id": "188968a2",
   "metadata": {},
   "source": [
    "## Counting the classes of features "
   ]
  },
  {
   "cell_type": "code",
   "execution_count": 7,
   "id": "bceeae88",
   "metadata": {},
   "outputs": [
    {
     "data": {
      "text/plain": [
       "Temperature \n",
       "Moderate    459\n",
       "Minimum     344\n",
       "Maximum      85\n",
       "Name: count, dtype: int64"
      ]
     },
     "execution_count": 7,
     "metadata": {},
     "output_type": "execute_result"
    }
   ],
   "source": [
    "df['Temperature '].value_counts()"
   ]
  },
  {
   "cell_type": "code",
   "execution_count": 8,
   "id": "9ebd010d",
   "metadata": {},
   "outputs": [
    {
     "data": {
      "text/plain": [
       " Cloud factor \n",
       "Open      390\n",
       "Broken    267\n",
       "Closed    231\n",
       "Name: count, dtype: int64"
      ]
     },
     "execution_count": 8,
     "metadata": {},
     "output_type": "execute_result"
    }
   ],
   "source": [
    "df[' Cloud factor '].value_counts()"
   ]
  },
  {
   "cell_type": "code",
   "execution_count": 9,
   "id": "185d2573",
   "metadata": {},
   "outputs": [
    {
     "data": {
      "text/plain": [
       " Soil moisture \n",
       "Adequate      884\n",
       "Inadequate      4\n",
       "Name: count, dtype: int64"
      ]
     },
     "execution_count": 9,
     "metadata": {},
     "output_type": "execute_result"
    }
   ],
   "source": [
    "df[' Soil moisture '].value_counts()"
   ]
  },
  {
   "cell_type": "code",
   "execution_count": 10,
   "id": "26bd54d4",
   "metadata": {},
   "outputs": [
    {
     "data": {
      "text/plain": [
       " Humidity\n",
       "Moderate    398\n",
       "Minimum     282\n",
       "Maximum     208\n",
       "Name: count, dtype: int64"
      ]
     },
     "execution_count": 10,
     "metadata": {},
     "output_type": "execute_result"
    }
   ],
   "source": [
    "df[' Humidity'].value_counts()"
   ]
  },
  {
   "cell_type": "code",
   "execution_count": 11,
   "id": "fe14f3cf",
   "metadata": {},
   "outputs": [
    {
     "data": {
      "text/plain": [
       "Symptoms \n",
       "High      448\n",
       "Medium    424\n",
       "Low        16\n",
       "Name: count, dtype: int64"
      ]
     },
     "execution_count": 11,
     "metadata": {},
     "output_type": "execute_result"
    }
   ],
   "source": [
    "df['Symptoms '].value_counts()"
   ]
  },
  {
   "cell_type": "markdown",
   "id": "d983718d",
   "metadata": {},
   "source": [
    "## Checking the Missing Values"
   ]
  },
  {
   "cell_type": "code",
   "execution_count": 12,
   "id": "031d7e46",
   "metadata": {},
   "outputs": [
    {
     "data": {
      "text/plain": [
       "  Date             0\n",
       " Cloud factor      0\n",
       " Soil moisture     0\n",
       "Temperature        0\n",
       " Humidity          0\n",
       "Symptoms           0\n",
       "dtype: int64"
      ]
     },
     "execution_count": 12,
     "metadata": {},
     "output_type": "execute_result"
    }
   ],
   "source": [
    "df.isnull().sum()"
   ]
  },
  {
   "cell_type": "markdown",
   "id": "d000826d",
   "metadata": {},
   "source": [
    "## Exploratory Data Analyis"
   ]
  },
  {
   "cell_type": "markdown",
   "id": "c588bc2e",
   "metadata": {},
   "source": [
    "## Comparison between Cloud Factor and Symptoms:"
   ]
  },
  {
   "cell_type": "code",
   "execution_count": 14,
   "id": "244f1804",
   "metadata": {},
   "outputs": [
    {
     "data": {
      "image/png": "[encoded data removed]",
      "text/plain": [
       "<Figure size 1000x600 with 1 Axes>"
      ]
     },
     "metadata": {},
     "output_type": "display_data"
    },
    {
     "name": "stdout",
     "output_type": "stream",
     "text": [
      "Symptoms        High  Low  Medium\n",
      " Cloud factor                    \n",
      "Broken           222    1      44\n",
      "Closed           125    3     103\n",
      "Open             101   12     277\n"
     ]
    }
   ],
   "source": [
    "plt.figure(figsize=(10, 6))  # Adjust the figure size as needed\n",
    "sns.countplot(data=df, x=' Cloud factor ', hue='Symptoms ')\n",
    "plt.title('Count of Symptoms by Cloud Factor')\n",
    "plt.xlabel('Cloud Factor')\n",
    "plt.ylabel('Count')\n",
    "plt.show()\n",
    "\n",
    "# Create a cross-tabulation (contingency table)\n",
    "cross_tab = pd.crosstab(df[' Cloud factor '], df['Symptoms '])\n",
    "print(cross_tab)"
   ]
  },
  {
   "cell_type": "markdown",
   "id": "8947f501",
   "metadata": {},
   "source": [
    "Here, we can see the chances of getting powdery mildew disease is high when the cloud is broken and closed"
   ]
  },
  {
   "cell_type": "markdown",
   "id": "34d00bfb",
   "metadata": {},
   "source": [
    "## Comparison between Soil Moisture and Symptoms:"
   ]
  },
  {
   "cell_type": "code",
   "execution_count": 16,
   "id": "76d8c039",
   "metadata": {},
   "outputs": [
    {
     "data": {
      "image/png": "[encoded data removed]",
      "text/plain": [
       "<Figure size 1000x600 with 1 Axes>"
      ]
     },
     "metadata": {},
     "output_type": "display_data"
    },
    {
     "name": "stdout",
     "output_type": "stream",
     "text": [
      "Symptoms         High  Low  Medium\n",
      " Soil moisture                    \n",
      "Adequate          448   16     420\n",
      "Inadequate          0    0       4\n"
     ]
    }
   ],
   "source": [
    "plt.figure(figsize=(10, 6))  # Adjust the figure size as needed\n",
    "sns.countplot(data=df, x=' Soil moisture ', hue='Symptoms ')\n",
    "plt.title('Count of Symptoms by Soil Moisture')\n",
    "plt.xlabel('Soil Moisture')\n",
    "plt.ylabel('Count')\n",
    "plt.show()\n",
    "\n",
    "# Create a cross-tabulation (contingency table)\n",
    "cross_tab = pd.crosstab(df[' Soil moisture '], df['Symptoms '])\n",
    "print(cross_tab)"
   ]
  },
  {
   "cell_type": "markdown",
   "id": "c6ab6aac",
   "metadata": {},
   "source": [
    "Here, we can see the chances of getting powdery mildew disease is high when the soil moisture is adequate"
   ]
  },
  {
   "cell_type": "markdown",
   "id": "ad138dbc",
   "metadata": {},
   "source": [
    "## Comparison between Temperature and Symptoms:"
   ]
  },
  {
   "cell_type": "code",
   "execution_count": 18,
   "id": "b792fbcb",
   "metadata": {},
   "outputs": [
    {
     "data": {
      "image/png": "[encoded data removed]",
      "text/plain": [
       "<Figure size 1000x600 with 1 Axes>"
      ]
     },
     "metadata": {},
     "output_type": "display_data"
    },
    {
     "name": "stdout",
     "output_type": "stream",
     "text": [
      "Symptoms      High  Low  Medium\n",
      "Temperature                    \n",
      "Maximum         42    0      43\n",
      "Minimum         99    2     243\n",
      "Moderate       307   14     138\n"
     ]
    }
   ],
   "source": [
    "plt.figure(figsize=(10, 6))  # Adjust the figure size as needed\n",
    "sns.countplot(data=df, x='Temperature ', hue='Symptoms ')\n",
    "plt.title('Count of Symptoms by Temperature')\n",
    "plt.xlabel('Temperature')\n",
    "plt.ylabel('Count')\n",
    "plt.show()\n",
    "\n",
    "# Create a cross-tabulation (contingency table)\n",
    "cross_tab = pd.crosstab(df['Temperature '], df['Symptoms '])\n",
    "print(cross_tab)"
   ]
  },
  {
   "cell_type": "markdown",
   "id": "72b38a8d",
   "metadata": {},
   "source": [
    "Here, we can see the chances of getting powdery mildew disease is high when the temperature is Moderate and minimum"
   ]
  },
  {
   "cell_type": "markdown",
   "id": "6db13882",
   "metadata": {},
   "source": [
    "## Comparison between Humidity and Symptoms:"
   ]
  },
  {
   "cell_type": "code",
   "execution_count": 19,
   "id": "0010187a",
   "metadata": {},
   "outputs": [
    {
     "data": {
      "image/png": "[encoded data removed]",
      "text/plain": [
       "<Figure size 1000x600 with 1 Axes>"
      ]
     },
     "metadata": {},
     "output_type": "display_data"
    },
    {
     "name": "stdout",
     "output_type": "stream",
     "text": [
      "Symptoms   High  Low  Medium\n",
      " Humidity                   \n",
      "Maximum     183   16       9\n",
      "Minimum      20    0     262\n",
      "Moderate    245    0     153\n"
     ]
    }
   ],
   "source": [
    "plt.figure(figsize=(10, 6))  # Adjust the figure size as needed\n",
    "sns.countplot(data=df, x=' Humidity', hue='Symptoms ')\n",
    "plt.title('Count of Symptoms by Humidity')\n",
    "plt.xlabel('Humidity')\n",
    "plt.ylabel('Count')\n",
    "plt.show()\n",
    "\n",
    "# Create a cross-tabulation (contingency table)\n",
    "cross_tab = pd.crosstab(df[' Humidity'], df['Symptoms '])\n",
    "print(cross_tab)"
   ]
  },
  {
   "cell_type": "markdown",
   "id": "870dad9a",
   "metadata": {},
   "source": [
    "Here, we can see the chances of getting powdery mildew disease is high when the Humidity is Maximum and moderate."
   ]
  },
  {
   "cell_type": "markdown",
   "id": "1aa4dd0a",
   "metadata": {},
   "source": [
    "## Let's replace the Categorical Variables to Numerical form\n",
    "The data in Numerical form avoids disturbances in building the model."
   ]
  },
  {
   "cell_type": "code",
   "execution_count": 20,
   "id": "55bdea20",
   "metadata": {},
   "outputs": [
    {
     "name": "stderr",
     "output_type": "stream",
     "text": [
      "C:\\Users\\rokha\\AppData\\Local\\Temp\\ipykernel_8488\\154279739.py:3: FutureWarning: Downcasting behavior in `replace` is deprecated and will be removed in a future version. To retain the old behavior, explicitly call `result.infer_objects(copy=False)`. To opt-in to the future behavior, set `pd.set_option('future.no_silent_downcasting', True)`\n",
      "  df['Symptoms '].replace('High',2,inplace=True)\n"
     ]
    }
   ],
   "source": [
    "df['Symptoms '].replace('Low',0,inplace=True)\n",
    "df['Symptoms '].replace('Medium',1,inplace=True)\n",
    "df['Symptoms '].replace('High',2,inplace=True)"
   ]
  },
  {
   "cell_type": "code",
   "execution_count": 21,
   "id": "600df3d5",
   "metadata": {},
   "outputs": [
    {
     "name": "stderr",
     "output_type": "stream",
     "text": [
      "C:\\Users\\rokha\\AppData\\Local\\Temp\\ipykernel_8488\\258070365.py:3: FutureWarning: Downcasting behavior in `replace` is deprecated and will be removed in a future version. To retain the old behavior, explicitly call `result.infer_objects(copy=False)`. To opt-in to the future behavior, set `pd.set_option('future.no_silent_downcasting', True)`\n",
      "  df['Temperature '].replace('Maximum',2,inplace=True)\n"
     ]
    }
   ],
   "source": [
    "df['Temperature '].replace('Moderate',0,inplace=True)\n",
    "df['Temperature '].replace('Minimum',1,inplace=True)\n",
    "df['Temperature '].replace('Maximum',2,inplace=True)"
   ]
  },
  {
   "cell_type": "code",
   "execution_count": 22,
   "id": "6a37b4c8",
   "metadata": {},
   "outputs": [
    {
     "name": "stderr",
     "output_type": "stream",
     "text": [
      "C:\\Users\\rokha\\AppData\\Local\\Temp\\ipykernel_8488\\623290023.py:3: FutureWarning: Downcasting behavior in `replace` is deprecated and will be removed in a future version. To retain the old behavior, explicitly call `result.infer_objects(copy=False)`. To opt-in to the future behavior, set `pd.set_option('future.no_silent_downcasting', True)`\n",
      "  df[' Cloud factor '].replace('Closed',2,inplace=True)\n"
     ]
    }
   ],
   "source": [
    "df[' Cloud factor '].replace('Open',0,inplace=True)\n",
    "df[' Cloud factor '].replace('Broken',1,inplace=True)\n",
    "df[' Cloud factor '].replace('Closed',2,inplace=True)"
   ]
  },
  {
   "cell_type": "code",
   "execution_count": 23,
   "id": "b06aebfd",
   "metadata": {},
   "outputs": [
    {
     "name": "stderr",
     "output_type": "stream",
     "text": [
      "C:\\Users\\rokha\\AppData\\Local\\Temp\\ipykernel_8488\\965818354.py:2: FutureWarning: Downcasting behavior in `replace` is deprecated and will be removed in a future version. To retain the old behavior, explicitly call `result.infer_objects(copy=False)`. To opt-in to the future behavior, set `pd.set_option('future.no_silent_downcasting', True)`\n",
      "  df[' Soil moisture '].replace(' Inadequate',1,inplace=True)\n"
     ]
    }
   ],
   "source": [
    "df[' Soil moisture '].replace(' Adequate',0,inplace=True)\n",
    "df[' Soil moisture '].replace(' Inadequate',1,inplace=True)"
   ]
  },
  {
   "cell_type": "code",
   "execution_count": 24,
   "id": "5a402c11",
   "metadata": {},
   "outputs": [
    {
     "name": "stderr",
     "output_type": "stream",
     "text": [
      "C:\\Users\\rokha\\AppData\\Local\\Temp\\ipykernel_8488\\271738277.py:1: FutureWarning: A value is trying to be set on a copy of a DataFrame or Series through chained assignment using an inplace method.\n",
      "The behavior will change in pandas 3.0. This inplace method will never work because the intermediate object on which we are setting values always behaves as a copy.\n",
      "\n",
      "For example, when doing 'df[col].method(value, inplace=True)', try using 'df.method({col: value}, inplace=True)' or df[col] = df[col].method(value) instead, to perform the operation inplace on the original object.\n",
      "\n",
      "\n",
      "  df[' Humidity'].replace('Moderate',0,inplace=True)\n",
      "C:\\Users\\rokha\\AppData\\Local\\Temp\\ipykernel_8488\\271738277.py:2: FutureWarning: A value is trying to be set on a copy of a DataFrame or Series through chained assignment using an inplace method.\n",
      "The behavior will change in pandas 3.0. This inplace method will never work because the intermediate object on which we are setting values always behaves as a copy.\n",
      "\n",
      "For example, when doing 'df[col].method(value, inplace=True)', try using 'df.method({col: value}, inplace=True)' or df[col] = df[col].method(value) instead, to perform the operation inplace on the original object.\n",
      "\n",
      "\n",
      "  df[' Humidity'].replace('Minimum',1,inplace=True)\n",
      "C:\\Users\\rokha\\AppData\\Local\\Temp\\ipykernel_8488\\271738277.py:3: FutureWarning: A value is trying to be set on a copy of a DataFrame or Series through chained assignment using an inplace method.\n",
      "The behavior will change in pandas 3.0. This inplace method will never work because the intermediate object on which we are setting values always behaves as a copy.\n",
      "\n",
      "For example, when doing 'df[col].method(value, inplace=True)', try using 'df.method({col: value}, inplace=True)' or df[col] = df[col].method(value) instead, to perform the operation inplace on the original object.\n",
      "\n",
      "\n",
      "  df[' Humidity'].replace('Maximum',2,inplace=True)\n",
      "C:\\Users\\rokha\\AppData\\Local\\Temp\\ipykernel_8488\\271738277.py:3: FutureWarning: Downcasting behavior in `replace` is deprecated and will be removed in a future version. To retain the old behavior, explicitly call `result.infer_objects(copy=False)`. To opt-in to the future behavior, set `pd.set_option('future.no_silent_downcasting', True)`\n",
      "  df[' Humidity'].replace('Maximum',2,inplace=True)\n"
     ]
    }
   ],
   "source": [
    "df[' Humidity'].replace('Moderate',0,inplace=True)\n",
    "df[' Humidity'].replace('Minimum',1,inplace=True)\n",
    "df[' Humidity'].replace('Maximum',2,inplace=True)"
   ]
  },
  {
   "cell_type": "code",
   "execution_count": 25,
   "id": "0466a491",
   "metadata": {},
   "outputs": [
    {
     "data": {
      "text/html": [
       "<div>\n",
       "<style scoped>\n",
       "    .dataframe tbody tr th:only-of-type {\n",
       "        vertical-align: middle;\n",
       "    }\n",
       "\n",
       "    .dataframe tbody tr th {\n",
       "        vertical-align: top;\n",
       "    }\n",
       "\n",
       "    .dataframe thead th {\n",
       "        text-align: right;\n",
       "    }\n",
       "</style>\n",
       "<table border=\"1\" class=\"dataframe\">\n",
       "  <thead>\n",
       "    <tr style=\"text-align: right;\">\n",
       "      <th></th>\n",
       "      <th>Date</th>\n",
       "      <th>Cloud factor</th>\n",
       "      <th>Soil moisture</th>\n",
       "      <th>Temperature</th>\n",
       "      <th>Humidity</th>\n",
       "      <th>Symptoms</th>\n",
       "    </tr>\n",
       "  </thead>\n",
       "  <tbody>\n",
       "    <tr>\n",
       "      <th>0</th>\n",
       "      <td>01-08-2016</td>\n",
       "      <td>1</td>\n",
       "      <td>0</td>\n",
       "      <td>0</td>\n",
       "      <td>2</td>\n",
       "      <td>0</td>\n",
       "    </tr>\n",
       "    <tr>\n",
       "      <th>1</th>\n",
       "      <td>02-08-2016</td>\n",
       "      <td>0</td>\n",
       "      <td>0</td>\n",
       "      <td>0</td>\n",
       "      <td>2</td>\n",
       "      <td>0</td>\n",
       "    </tr>\n",
       "    <tr>\n",
       "      <th>2</th>\n",
       "      <td>03-08-2016</td>\n",
       "      <td>0</td>\n",
       "      <td>0</td>\n",
       "      <td>0</td>\n",
       "      <td>2</td>\n",
       "      <td>0</td>\n",
       "    </tr>\n",
       "    <tr>\n",
       "      <th>3</th>\n",
       "      <td>04-08-2016</td>\n",
       "      <td>0</td>\n",
       "      <td>0</td>\n",
       "      <td>0</td>\n",
       "      <td>2</td>\n",
       "      <td>0</td>\n",
       "    </tr>\n",
       "    <tr>\n",
       "      <th>4</th>\n",
       "      <td>05-08-2016</td>\n",
       "      <td>0</td>\n",
       "      <td>0</td>\n",
       "      <td>0</td>\n",
       "      <td>2</td>\n",
       "      <td>0</td>\n",
       "    </tr>\n",
       "    <tr>\n",
       "      <th>...</th>\n",
       "      <td>...</td>\n",
       "      <td>...</td>\n",
       "      <td>...</td>\n",
       "      <td>...</td>\n",
       "      <td>...</td>\n",
       "      <td>...</td>\n",
       "    </tr>\n",
       "    <tr>\n",
       "      <th>883</th>\n",
       "      <td>27-03-2020</td>\n",
       "      <td>0</td>\n",
       "      <td>0</td>\n",
       "      <td>0</td>\n",
       "      <td>0</td>\n",
       "      <td>2</td>\n",
       "    </tr>\n",
       "    <tr>\n",
       "      <th>884</th>\n",
       "      <td>28-03-2020</td>\n",
       "      <td>2</td>\n",
       "      <td>0</td>\n",
       "      <td>0</td>\n",
       "      <td>0</td>\n",
       "      <td>2</td>\n",
       "    </tr>\n",
       "    <tr>\n",
       "      <th>885</th>\n",
       "      <td>29-03-2020</td>\n",
       "      <td>2</td>\n",
       "      <td>0</td>\n",
       "      <td>0</td>\n",
       "      <td>0</td>\n",
       "      <td>2</td>\n",
       "    </tr>\n",
       "    <tr>\n",
       "      <th>886</th>\n",
       "      <td>30-03-2020</td>\n",
       "      <td>2</td>\n",
       "      <td>0</td>\n",
       "      <td>0</td>\n",
       "      <td>0</td>\n",
       "      <td>2</td>\n",
       "    </tr>\n",
       "    <tr>\n",
       "      <th>887</th>\n",
       "      <td>31-03-2020</td>\n",
       "      <td>2</td>\n",
       "      <td>0</td>\n",
       "      <td>0</td>\n",
       "      <td>0</td>\n",
       "      <td>2</td>\n",
       "    </tr>\n",
       "  </tbody>\n",
       "</table>\n",
       "<p>888 rows × 6 columns</p>\n",
       "</div>"
      ],
      "text/plain": [
       "          Date    Cloud factor    Soil moisture   Temperature    Humidity  \\\n",
       "0    01-08-2016               1                0             0          2   \n",
       "1    02-08-2016               0                0             0          2   \n",
       "2    03-08-2016               0                0             0          2   \n",
       "3    04-08-2016               0                0             0          2   \n",
       "4    05-08-2016               0                0             0          2   \n",
       "..          ...             ...              ...           ...        ...   \n",
       "883  27-03-2020               0                0             0          0   \n",
       "884  28-03-2020               2                0             0          0   \n",
       "885  29-03-2020               2                0             0          0   \n",
       "886  30-03-2020               2                0             0          0   \n",
       "887  31-03-2020               2                0             0          0   \n",
       "\n",
       "     Symptoms   \n",
       "0            0  \n",
       "1            0  \n",
       "2            0  \n",
       "3            0  \n",
       "4            0  \n",
       "..         ...  \n",
       "883          2  \n",
       "884          2  \n",
       "885          2  \n",
       "886          2  \n",
       "887          2  \n",
       "\n",
       "[888 rows x 6 columns]"
      ]
     },
     "execution_count": 25,
     "metadata": {},
     "output_type": "execute_result"
    }
   ],
   "source": [
    "df"
   ]
  },
  {
   "cell_type": "markdown",
   "id": "08080492",
   "metadata": {},
   "source": [
    "## Dropping the date feature as it is not neccesary in bulding model"
   ]
  },
  {
   "cell_type": "code",
   "execution_count": 26,
   "id": "5cba18ab",
   "metadata": {},
   "outputs": [],
   "source": [
    "df.drop('  Date ',axis='columns',inplace=True)"
   ]
  },
  {
   "cell_type": "code",
   "execution_count": 27,
   "id": "04d75ca0",
   "metadata": {},
   "outputs": [
    {
     "data": {
      "text/html": [
       "<div>\n",
       "<style scoped>\n",
       "    .dataframe tbody tr th:only-of-type {\n",
       "        vertical-align: middle;\n",
       "    }\n",
       "\n",
       "    .dataframe tbody tr th {\n",
       "        vertical-align: top;\n",
       "    }\n",
       "\n",
       "    .dataframe thead th {\n",
       "        text-align: right;\n",
       "    }\n",
       "</style>\n",
       "<table border=\"1\" class=\"dataframe\">\n",
       "  <thead>\n",
       "    <tr style=\"text-align: right;\">\n",
       "      <th></th>\n",
       "      <th>Cloud factor</th>\n",
       "      <th>Soil moisture</th>\n",
       "      <th>Temperature</th>\n",
       "      <th>Humidity</th>\n",
       "      <th>Symptoms</th>\n",
       "    </tr>\n",
       "  </thead>\n",
       "  <tbody>\n",
       "    <tr>\n",
       "      <th>0</th>\n",
       "      <td>1</td>\n",
       "      <td>0</td>\n",
       "      <td>0</td>\n",
       "      <td>2</td>\n",
       "      <td>0</td>\n",
       "    </tr>\n",
       "    <tr>\n",
       "      <th>1</th>\n",
       "      <td>0</td>\n",
       "      <td>0</td>\n",
       "      <td>0</td>\n",
       "      <td>2</td>\n",
       "      <td>0</td>\n",
       "    </tr>\n",
       "    <tr>\n",
       "      <th>2</th>\n",
       "      <td>0</td>\n",
       "      <td>0</td>\n",
       "      <td>0</td>\n",
       "      <td>2</td>\n",
       "      <td>0</td>\n",
       "    </tr>\n",
       "    <tr>\n",
       "      <th>3</th>\n",
       "      <td>0</td>\n",
       "      <td>0</td>\n",
       "      <td>0</td>\n",
       "      <td>2</td>\n",
       "      <td>0</td>\n",
       "    </tr>\n",
       "    <tr>\n",
       "      <th>4</th>\n",
       "      <td>0</td>\n",
       "      <td>0</td>\n",
       "      <td>0</td>\n",
       "      <td>2</td>\n",
       "      <td>0</td>\n",
       "    </tr>\n",
       "    <tr>\n",
       "      <th>...</th>\n",
       "      <td>...</td>\n",
       "      <td>...</td>\n",
       "      <td>...</td>\n",
       "      <td>...</td>\n",
       "      <td>...</td>\n",
       "    </tr>\n",
       "    <tr>\n",
       "      <th>883</th>\n",
       "      <td>0</td>\n",
       "      <td>0</td>\n",
       "      <td>0</td>\n",
       "      <td>0</td>\n",
       "      <td>2</td>\n",
       "    </tr>\n",
       "    <tr>\n",
       "      <th>884</th>\n",
       "      <td>2</td>\n",
       "      <td>0</td>\n",
       "      <td>0</td>\n",
       "      <td>0</td>\n",
       "      <td>2</td>\n",
       "    </tr>\n",
       "    <tr>\n",
       "      <th>885</th>\n",
       "      <td>2</td>\n",
       "      <td>0</td>\n",
       "      <td>0</td>\n",
       "      <td>0</td>\n",
       "      <td>2</td>\n",
       "    </tr>\n",
       "    <tr>\n",
       "      <th>886</th>\n",
       "      <td>2</td>\n",
       "      <td>0</td>\n",
       "      <td>0</td>\n",
       "      <td>0</td>\n",
       "      <td>2</td>\n",
       "    </tr>\n",
       "    <tr>\n",
       "      <th>887</th>\n",
       "      <td>2</td>\n",
       "      <td>0</td>\n",
       "      <td>0</td>\n",
       "      <td>0</td>\n",
       "      <td>2</td>\n",
       "    </tr>\n",
       "  </tbody>\n",
       "</table>\n",
       "<p>888 rows × 5 columns</p>\n",
       "</div>"
      ],
      "text/plain": [
       "      Cloud factor    Soil moisture   Temperature    Humidity  Symptoms \n",
       "0                 1                0             0          2          0\n",
       "1                 0                0             0          2          0\n",
       "2                 0                0             0          2          0\n",
       "3                 0                0             0          2          0\n",
       "4                 0                0             0          2          0\n",
       "..              ...              ...           ...        ...        ...\n",
       "883               0                0             0          0          2\n",
       "884               2                0             0          0          2\n",
       "885               2                0             0          0          2\n",
       "886               2                0             0          0          2\n",
       "887               2                0             0          0          2\n",
       "\n",
       "[888 rows x 5 columns]"
      ]
     },
     "execution_count": 27,
     "metadata": {},
     "output_type": "execute_result"
    }
   ],
   "source": [
    "df"
   ]
  },
  {
   "cell_type": "code",
   "execution_count": 28,
   "id": "956268ab",
   "metadata": {},
   "outputs": [
    {
     "data": {
      "text/plain": [
       "(888, 5)"
      ]
     },
     "execution_count": 28,
     "metadata": {},
     "output_type": "execute_result"
    }
   ],
   "source": [
    "df.shape"
   ]
  },
  {
   "cell_type": "markdown",
   "id": "557e9921",
   "metadata": {},
   "source": [
    "## Display the Correlation Matrix"
   ]
  },
  {
   "cell_type": "code",
   "execution_count": 29,
   "id": "b88474d1",
   "metadata": {},
   "outputs": [
    {
     "data": {
      "text/plain": [
       "Text(0.5, 1.0, 'Correlation Matrix')"
      ]
     },
     "execution_count": 29,
     "metadata": {},
     "output_type": "execute_result"
    },
    {
     "data": {
      "image/png": "[encoded data removed]",
      "text/plain": [
       "<Figure size 1600x500 with 2 Axes>"
      ]
     },
     "metadata": {},
     "output_type": "display_data"
    }
   ],
   "source": [
    "plt.figure(figsize=(16,5))\n",
    "sns.heatmap(df.corr(),annot=True)\n",
    "plt.title('Correlation Matrix')"
   ]
  },
  {
   "cell_type": "markdown",
   "id": "57ae8fd3",
   "metadata": {},
   "source": [
    "From the above figure, we can see that Symptoms (Independent Variable) has the maximum correlation with Cloud Factor(Dependent Variable). Which denotes that the Symptoms is heavily dependent on the Cloud Factor."
   ]
  },
  {
   "cell_type": "markdown",
   "id": "9d9ee2d6",
   "metadata": {},
   "source": [
    "## Splitting the data into Train and Test set"
   ]
  },
  {
   "cell_type": "code",
   "execution_count": 30,
   "id": "4123e9ac",
   "metadata": {},
   "outputs": [],
   "source": [
    "y = df['Symptoms ']\n",
    "X = df.drop(['Symptoms '], axis = 1)"
   ]
  },
  {
   "cell_type": "code",
   "execution_count": 31,
   "id": "6adce9e0",
   "metadata": {},
   "outputs": [],
   "source": [
    "X_train, X_test, y_train, y_test = train_test_split(X, y, test_size=0.2,random_state=0)"
   ]
  },
  {
   "cell_type": "markdown",
   "id": "799619e3",
   "metadata": {},
   "source": [
    "## Logistic Regression (LR)"
   ]
  },
  {
   "cell_type": "code",
   "execution_count": 32,
   "id": "f308d891",
   "metadata": {},
   "outputs": [
    {
     "name": "stdout",
     "output_type": "stream",
     "text": [
      "Logistic Regression accuracy =  0.6910112359550562\n"
     ]
    }
   ],
   "source": [
    "lr_model = LogisticRegression()\n",
    "lr_model.fit(X_train,y_train)\n",
    "\n",
    "lr_prediction = lr_model.predict(X_test)\n",
    "print('Logistic Regression accuracy = ', metrics.accuracy_score(lr_prediction,y_test))"
   ]
  },
  {
   "cell_type": "markdown",
   "id": "4108249a",
   "metadata": {},
   "source": [
    "## Support Vector Machine (SVM)"
   ]
  },
  {
   "cell_type": "code",
   "execution_count": 33,
   "id": "f7ecc665",
   "metadata": {},
   "outputs": [
    {
     "name": "stdout",
     "output_type": "stream",
     "text": [
      "SVM accuracy =  0.797752808988764\n"
     ]
    }
   ],
   "source": [
    "svm_model = svm.SVC()\n",
    "svm_model.fit(X_train,y_train)\n",
    "\n",
    "svc_prediction = svm_model.predict(X_test)\n",
    "print('SVM accuracy = ', metrics.accuracy_score(svc_prediction,y_test))"
   ]
  },
  {
   "cell_type": "markdown",
   "id": "987c87e1",
   "metadata": {},
   "source": [
    "## Decision Tree"
   ]
  },
  {
   "cell_type": "code",
   "execution_count": 34,
   "id": "d953078b",
   "metadata": {},
   "outputs": [
    {
     "name": "stdout",
     "output_type": "stream",
     "text": [
      "Decision Tree accuracy =  0.797752808988764\n"
     ]
    }
   ],
   "source": [
    "dt_model = DecisionTreeClassifier()\n",
    "dt_model.fit(X_train,y_train)\n",
    "\n",
    "dt_prediction = dt_model.predict(X_test)\n",
    "print('Decision Tree accuracy = ', metrics.accuracy_score(dt_prediction,y_test))"
   ]
  },
  {
   "cell_type": "markdown",
   "id": "ffbddd54",
   "metadata": {},
   "source": [
    "## K-Nearest Neighbors (KNN)"
   ]
  },
  {
   "cell_type": "code",
   "execution_count": 35,
   "id": "12ede6f3",
   "metadata": {},
   "outputs": [
    {
     "name": "stdout",
     "output_type": "stream",
     "text": [
      "KNN accuracy =  0.797752808988764\n"
     ]
    }
   ],
   "source": [
    "knn_model = KNeighborsClassifier()\n",
    "knn_model.fit(X_train,y_train)\n",
    "\n",
    "knn_prediction =knn_model.predict(X_test)\n",
    "print('KNN accuracy = ', metrics.accuracy_score(knn_prediction,y_test))"
   ]
  },
  {
   "cell_type": "markdown",
   "id": "2fb1f75d",
   "metadata": {},
   "source": [
    "## Random Forest"
   ]
  },
  {
   "cell_type": "code",
   "execution_count": 36,
   "id": "03aa161e",
   "metadata": {},
   "outputs": [
    {
     "name": "stdout",
     "output_type": "stream",
     "text": [
      "random forest accuracy =  0.797752808988764\n"
     ]
    }
   ],
   "source": [
    "rf_model = RandomForestClassifier(n_estimators = 10, criterion = 'entropy', random_state = 0)\n",
    "rf_model.fit(X_train, y_train)\n",
    "\n",
    "rf_prediction=rf_model.predict(X_test)\n",
    "print('random forest accuracy = ',metrics.accuracy_score(rf_prediction,y_test))"
   ]
  },
  {
   "cell_type": "markdown",
   "id": "f9d91879",
   "metadata": {},
   "source": [
    "## Conclusion\n",
    "The K-Nearest Neighbours algorithm gives us the maximum Accuracy (80% approx) compared to the other 4 Machine Learning Classification Algorithms."
   ]
  },
  {
   "cell_type": "code",
   "execution_count": 38,
   "id": "2432092d",
   "metadata": {},
   "outputs": [],
   "source": [
    "import pickle\n",
    "pickle.dump(knn_model,open('model.pkl','wb'))"
   ]
  },
  {
   "cell_type": "code",
   "execution_count": null,
   "id": "b68013b4",
   "metadata": {},
   "outputs": [],
   "source": []
  },
  {
   "cell_type": "code",
   "execution_count": null,
   "id": "3589972c",
   "metadata": {},
   "outputs": [],
   "source": []
  }
 ],
 "metadata": {
  "kernelspec": {
   "display_name": "Python 3",
   "language": "python",
   "name": "python3"
  },
  "language_info": {
   "codemirror_mode": {
    "name": "ipython",
    "version": 3
   },
   "file_extension": ".py",
   "mimetype": "text/x-python",
   "name": "python",
   "nbconvert_exporter": "python",
   "pygments_lexer": "ipython3",
   "version": "3.12.3"
  }
 },
 "nbformat": 4,
 "nbformat_minor": 5
}
